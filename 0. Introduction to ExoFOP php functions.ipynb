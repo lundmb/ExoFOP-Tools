{
 "cells": [
  {
   "cell_type": "markdown",
   "metadata": {},
   "source": [
    "# ExoFOP-TESS php scripts\n",
    "\n",
    "A number of php scripts are available for more easily accessing data. Broadly, these can be separated into those that that will download files and those that will return text. Summaries of scripts are presented below, and the path for all scripts begins with \"https://exofop.ipac.caltech.edu/tess/\"\n",
    "\n",
    "For those that return text, there are a few formatting options that may be available. These can be selected by including \"&output=[keyword]\" in the php call.\n",
    "\n",
    " - text : Returns columns separated by white space\n",
    " \n",
    " - csv : Returns csv formatted text\n",
    " \n",
    " - pipe/bar : Returns pipe-delimited text\n",
    " \n",
    " \n",
    " Some of these php scripts already have been incorporated into Python functions that have been developed to make these more quickly accessible or to perform more complicated operations. These will be explained in additional notebooks and allow for quicker integration into Python."
   ]
  },
  {
   "cell_type": "markdown",
   "metadata": {},
   "source": [
    "### TOI\n",
    "\n",
    "–\n",
    "\n",
    "download_toi.php(all or single TOI -text or csv)  \n",
    "download_toi.php?sort=toi&output=[text|csv|pipe]  \n",
    "Accesses the full TOI table from https://exofop.ipac.caltech.edu/tess/view_toi.php  \n",
    "\n",
    "Optional term: toi=[nnn]  \n",
    "Accesses a single TOI from the TOI table  \n",
    "–\n",
    "\n",
    "download_toistatus.php?output=[text|csv]  \n",
    "Log of all TOI ingests, providing ingest status (COMPLETE or ERROR), Number of new TOIs, number of updated TOIs, and date"
   ]
  },
  {
   "cell_type": "markdown",
   "metadata": {},
   "source": [
    "### Target Overview\n",
    "\n",
    "–\n",
    "\n",
    "download_target.php?id=[nnnnnnnnn]  \n",
    "Downloads from ExoFOP page all content in a single file"
   ]
  },
  {
   "cell_type": "markdown",
   "metadata": {},
   "source": [
    "### Files  \n",
    "\n",
    "download_files.php?id=[nnnnnnnnn]  \n",
    "Downloads all files for a given TIC id as a single tar  \n",
    "\n",
    "–\n",
    "\n",
    "download_files_zip.php?id=[nnnnnnnnn]  \n",
    "Downloads all files for a given TIC id as a single zip file  \n",
    "\n",
    "_\n",
    "\n",
    "download_filelist.php?id=[nnnnnnnnn]&output[text*,csv]  \n",
    "Downloads list of files associated with a given TOI containing following columns:  \n",
    "Type, File Name, File ID, TIC, TOI, Date, User, Group, Tag, Description  \n",
    "\n",
    "*In this call, the text output is pipe delimited  \n",
    "_\n",
    "\n",
    "download_tag_files.php?tag=[tag]  \n",
    "Downloads all files for a given tag as a single tar  \n",
    "Tag can be string or associated number  \n",
    "\n",
    "–\n",
    "\n",
    "download_tag_files_zip.php?tag=[tag]  \n",
    "Downloads all files for a given tag as a single tar  \n",
    "Tag can be string or associated number  \n",
    "\n"
   ]
  },
  {
   "cell_type": "markdown",
   "metadata": {},
   "source": [
    "### Nearby Target  \n",
    "\n",
    "download_nearbytarget.php?id=[nnnnnnnnn]&output[text,csv]  \n",
    "Accesses nearby targets for a given TIC ID and returns following columns:  \n",
    "TIC ID, TOI, RA, Dec, TESS Mag, GAIA DR2, GAIA Mag, Distance (pc), Distance Err (pc), PM RA (mas/yr), PM RA Err (mas/yr), PM Dec (mas/yr), PM Dec Err (mas/yr), Separation (arcsec), Position Angle (deg E. of N.) \n"
   ]
  },
  {
   "cell_type": "markdown",
   "metadata": {},
   "source": [
    "### Imaging Observation Summaries  \n",
    "\n",
    "Imaging observation summaries are viewable at https://exofop.ipac.caltech.edu/tess/view_imaging.php and contain the following columns:  \n",
    "TIC ID, TIC, TOI, Telescope, Instrument, Filter, Image Type, Pixel Scale, PSF, Contrast, Obs Date, User, Group, Tag, Notes  \n",
    "\n",
    "–\n",
    "\n",
    "download_imaging.php?output[text,csv]  \n",
    "Accesses all imaging observation summaries and returns above columns\n",
    "\n",
    "–\n",
    "\n",
    "download_tag_imaging.php?tag=[tag]&output=[text|csv]  \n",
    "Accesses all imaging observation summaries for a given tag and returns above columns  \n",
    "Tag can be string or associated number"
   ]
  },
  {
   "cell_type": "markdown",
   "metadata": {},
   "source": [
    "### Spectroscopic Observation Summaries  \n",
    "\n",
    "Spectroscopic observation summaries are viewable at https://exofop.ipac.caltech.edu/tess/view_spect.php and contain the following columns:  \n",
    "TIC ID, TIC, TOI, Telescope, Instrument, Spectral resolution, Wavelength coverage, SNR/resolution, SNR wavelength, Appropriate to PRV, Obs Date, User, Group, Tag, Notes   \n",
    "–\n",
    "\n",
    "download_spect.php?output=[text,csv]  \n",
    "Accesses all spectroscopic observation summaries and returns above columns  \n",
    "\n",
    "–\n",
    "\n",
    "download_tag_spect.php?tag=[tag]&output=[text|csv]  \n",
    "Accesses all spectroscopic observation summaries for a given tag and returns above columns  \n",
    "Tag can be string or associated number"
   ]
  },
  {
   "cell_type": "markdown",
   "metadata": {},
   "source": [
    "### Time Series Observation Summaries\n",
    "\n",
    "Time series observation summaries are viewable at https://exofop.ipac.caltech.edu/tess/view_tseries.php and contain the following columns:  \n",
    "TIC ID, TIC, TOI, Telescope, Camera, Filter, Pix Scale (arcsec), PSF (arcsec), Phot Aperture Rad (pix), Date (UT), Duration (m), # of Obs, Type, Transit Coverage, Delta Mag, User, Group, Tag, Notes  \n",
    "\n",
    "–\n",
    "\n",
    "download_tseries.php?output=[text,csv]  \n",
    "Accesses all time series observation summaries and returns above columns  \n",
    "\n",
    "–\n",
    "\n",
    "download_tag_tseries.php?tag=[tag]&output=[text|csv]  \n",
    "Accesses all time series observation summaries for a given tag and returns above columns  \n",
    "Tag can be string or associated number"
   ]
  },
  {
   "cell_type": "markdown",
   "metadata": {},
   "source": [
    "### Observing Notes  \n",
    "\n",
    "download_obsnotes.php?tag=[tag]&output=[csv|bar]  \n",
    "download_obsnotes.php?tid=[nnnnnnnnn]&output=[csv|bar]  \n",
    "download_obsnotes.php?id=[nnnn]&output=[csv|bar]  \n",
    "\n",
    "Returns the following columns:  \n",
    "ID, TIC ID, Username, Groupname, TAG ID, Lastmod, notes  \n",
    "Tag can be string or associated number  \n",
    "tid is TIC ID  \n",
    "id is row ID associated with note"
   ]
  },
  {
   "cell_type": "markdown",
   "metadata": {},
   "source": [
    "### Tag Overview\n",
    "\n",
    "–\n",
    "\n",
    "download_tag.php?tag=[tag]  \n",
    "Downloads text file containing tag string and tag ID  \n",
    "Also returns any of the following tables that have associated data:  \n",
    "TFOPWG Disposition, Planet Parameters, Stellar Paramters, Magnitudes, Imaging Observations, Spectroscopic Observations, Time Series Observations, Files  \n",
    "\n",
    "Observing Notes are not returned  \n",
    "_\n",
    "\n",
    "download_user_tags.php?username=[username]  \n",
    "If username parameter not included, search is conducted on logged-in user's username  \n",
    "Accesses list of user tags and returns following columns:  \n",
    "User, Tag, Tag ID, Number of Uploaded Time Series Observations, Number of Uploaded Spectroscopy Observations, Number of Uploaded Imaging Observations, Number of Uploaded Files, Number of Uploaded Observaton Notes, Number of Uploaded Stellar Parameters, Number of Uploaded Stellar Companions, Number of Uploaded Planet Parameters, Date Tag Created, Date Tag Last Modified"
   ]
  },
  {
   "cell_type": "markdown",
   "metadata": {},
   "source": [
    "### Stellar Companions  \n",
    "\n",
    "Stellar companions are viewable at https://exofop.ipac.caltech.edu/tess/view_stellarcomp.php and includes all companions reported, not necessarily only those stellar companions that are gravitationally bound. This contains the following columns:  \n",
    "TIC ID, TOI, Separation (arcsec), Separation (arcsec) Error, Pos Angle E of N (deg), Pos Angle E of N (deg) Error, Filter, Delta Mag, Delta Mag Error, Observation Date (UT), Date, User, Group, Tag, Notes\n",
    "\n",
    "_\n",
    "\n",
    "download_stellarcomp.php?output=[text|csv|pipe]  \n",
    "Accesses all user-reported stellar companions and returns the above columns"
   ]
  },
  {
   "cell_type": "code",
   "execution_count": null,
   "metadata": {},
   "outputs": [],
   "source": []
  }
 ],
 "metadata": {
  "kernelspec": {
   "display_name": "Python 3",
   "language": "python",
   "name": "python3"
  },
  "language_info": {
   "codemirror_mode": {
    "name": "ipython",
    "version": 3
   },
   "file_extension": ".py",
   "mimetype": "text/x-python",
   "name": "python",
   "nbconvert_exporter": "python",
   "pygments_lexer": "ipython3",
   "version": "3.6.9"
  }
 },
 "nbformat": 4,
 "nbformat_minor": 2
}
