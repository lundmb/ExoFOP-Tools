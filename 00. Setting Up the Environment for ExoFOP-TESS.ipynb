{
 "cells": [
  {
   "cell_type": "markdown",
   "metadata": {},
   "source": [
    "<H1>Setting Up the Environment for ExoFOP-TESS</H1>\n",
    "\n",
    "This notebook addresses what is needed in order to use the subsequent notebooks. These notebooks provide a guide in using the Python tools that have been developed to assist and help automate interaction with ExoFOP-TESS.\n",
    "\n",
    "A number of Python files are included with these notebooks. These Python files (and these notebooks) require Python 3. The following Python packages\n",
    "<UL>\n",
    "    <LI>`beautifulsoup`\n",
    "    <LI>`matplotlib`\n",
    "    <LI>`pandas`\n",
    "    <LI>`numpy`\n",
    "</UL>\n",
    "\n",
    "The below code will check that these packages are install and available for use."
   ]
  },
  {
   "cell_type": "code",
   "execution_count": null,
   "metadata": {},
   "outputs": [],
   "source": [
    "try:\n",
    "    import matplotlib\n",
    "    print(\"matplotlib installed\")\n",
    "except ImportError as e:\n",
    "    print(e)  \n",
    "try:\n",
    "    import pandas\n",
    "    print(\"pandas installed\")\n",
    "except ImportError as e:\n",
    "    print(e)  \n",
    "try:\n",
    "    import numpy\n",
    "    print(\"numpy installed\")\n",
    "except ImportError as e:\n",
    "    print(e)  "
   ]
  },
  {
   "cell_type": "markdown",
   "metadata": {},
   "source": [
    "Additionally, some ExoFOP-TESS pages require login information to access, such as seeing propriatary data, uploading new information, and submitting MyTargets requests. For these scripts to do this, these notebooks use a text file to obtain the user name and password. To use those features, a text file is needed in this directory called 'ExoFOP_info.txt'\n",
    "\n",
    "This file needs to contain the following lines:  \n",
    "username=\\[username\\]  \n",
    "password=\\[password\\]  \n",
    "url=https://exofop.ipac.caltech.edu/tess/password_check.php\n",
    "\n",
    "The code below will check that this file exists and display the parameters."
   ]
  },
  {
   "cell_type": "code",
   "execution_count": null,
   "metadata": {},
   "outputs": [],
   "source": [
    "from ExoFOP import ExoFOP_parameters\n",
    "params=ExoFOP_parameters('ExoFOP_info.txt')\n",
    "print(params)"
   ]
  },
  {
   "cell_type": "code",
   "execution_count": null,
   "metadata": {},
   "outputs": [],
   "source": []
  }
 ],
 "metadata": {
  "kernelspec": {
   "display_name": "Python 3",
   "language": "python",
   "name": "python3"
  },
  "language_info": {
   "codemirror_mode": {
    "name": "ipython",
    "version": 3
   },
   "file_extension": ".py",
   "mimetype": "text/x-python",
   "name": "python",
   "nbconvert_exporter": "python",
   "pygments_lexer": "ipython3",
   "version": "3.6.9"
  }
 },
 "nbformat": 4,
 "nbformat_minor": 2
}
