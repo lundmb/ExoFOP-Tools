{
 "cells": [
  {
   "cell_type": "markdown",
   "metadata": {},
   "source": [
    "<H1>Downloading Data from ExoFOP</H1>\n",
    "\n",
    "This notebook will serve as a guide for downloading tables of data from ExoFOP in Python using the `pandas` package. This can be used to fetch data for  input into projects that have been developed to use TESS data, but here we provide an example of how this can provide a simple way to allow the TOI data to be visualized.\n",
    "\n",
    "We begin by importing the `pandas` package, as well as `matplotlib.pyplot` for visualizations."
   ]
  },
  {
   "cell_type": "code",
   "execution_count": null,
   "metadata": {},
   "outputs": [],
   "source": [
    "import pandas as pd\n",
    "import matplotlib.pyplot as plt"
   ]
  },
  {
   "cell_type": "markdown",
   "metadata": {},
   "source": [
    "We first start by defining the url that we would like to download from. The url listed here is for the list of all TOIs and provides columns that are delimited using a pipe, '|'. As some text fields routinely use commas, the pipe-delimited format is more robust for being read in and parsed in Python. The url for a pipe-delimited format of a table on ExoFOP can be found by looking for an option under 'download table' similar to the TOI table's option of \"All rows (pipe)\" (red box).\n",
    "\n",
    "<IMG SRC=notebook_images/download_link.png>\n",
    "\n",
    "We use the read_csv function in pandas to read from this url and store it as a pandas dataframe, a <A HREF=\"https://pandas.pydata.org/pandas-docs/stable/getting_started/dsintro.html#dataframe\">2-D data structure with labeled columns</A>. As additional parameters, we specify the delimiter and set the index column to 1. Setting the index column in this way means that the index column will be the TOI number. This will mean that we can use the TOI number to easily look up a line of data rather than try to match column values.\n",
    "\n",
    "By printing out the length of the dataframe, we can check how many TOIs are on ExoFOP. We can also look at all the data for a single TOI by using the TOI as an index, in this case TOI 664.01. This will show all columns that were gathered from the TOI table, and the values in those columns for TOI 664.01."
   ]
  },
  {
   "cell_type": "code",
   "execution_count": null,
   "metadata": {},
   "outputs": [],
   "source": [
    "url=\"https://exofop.ipac.caltech.edu/tess/download_toi.php?sort=toi&output=pipe\"\n",
    "TOI_df=pd.read_csv(url, delimiter='|', index_col=1)\n",
    "print(\"Number of TOIs:\", len(TOI_df))\n",
    "print(TOI_df.loc[664.01])"
   ]
  },
  {
   "cell_type": "markdown",
   "metadata": {},
   "source": [
    "Pandas dataframes can also be easily parsed by columns in order to look at certain properties across all TOIs. First, we print out the 'TFOPWG Disposition' column, which will list the index (the TOI number) and the 'TFOPWG Disposition' for the TOIs in the table. We can also select a paricular TOI by using the TOI number to specify a single item. TOIs that have a blank TFOPWG Disposition will show up here as 'NaN', and these generally represent TOIs that are still active candidates that have not yet been identified as either a false positive or a confirmed planet.\n",
    "\n",
    "We can also use some additional funtions of pandas data frames to explore the 'TFOPWG Disposition' column. The value_counts() function provides a count of how many occurences of each disposition are in the TOI list. By default, value_counts() will ignore any 'NaN' values but we can include them by setting dropna=False. Generally, these can be thought of as the same as having a PC disposition.\n",
    "\n",
    "Pandas also has a plot function that can be used in conjunction with the value_counts table to plot them as a bar chart.Pandas also has a value_counts function that can be used for counting occurances in a column, and can be combined with a plot function to generate bar graphs.\n",
    "\n",
    "In this case, we see that most TOIs are active candidates with no disposition set yet, and the majority of TOIs that do have a TFOPWG Disposition are 'FP's, or false positives."
   ]
  },
  {
   "cell_type": "code",
   "execution_count": null,
   "metadata": {},
   "outputs": [],
   "source": [
    "print(\"All TOI dispositions:\", TOI_df['TFOPWG Disposition'])\n",
    "print(\"\\nDisposition for TOI 664.01\", TOI_df['TFOPWG Disposition'][664.01])\n",
    "print(TOI_df['TFOPWG Disposition'].value_counts(dropna=False))\n",
    "TOI_df['TFOPWG Disposition'].value_counts(dropna=False).plot(kind='bar')\n",
    "plt.xlabel('Disposition')\n",
    "plt.ylabel('Count')"
   ]
  },
  {
   "cell_type": "markdown",
   "metadata": {},
   "source": [
    "We can also create 2D plots of pandas diagrams using matplotlib.pyplot (which we have imported as plt).\n",
    "\n",
    "In this case, we are making a scatterplot of planet period and planet radius. The x and y axes have been set to a log scale."
   ]
  },
  {
   "cell_type": "code",
   "execution_count": null,
   "metadata": {},
   "outputs": [],
   "source": [
    "plt.scatter(TOI_df['Period (days)'], TOI_df['Planet Radius (R_Earth)'], alpha=0.5)\n",
    "plt.xlabel('Period (days)')\n",
    "plt.ylabel('Planet Radius (R_Earth)')\n",
    "plt.xscale('log')\n",
    "plt.yscale('log')\n",
    "plt.xlim(left=.2, right=100)\n",
    "plt.show()"
   ]
  },
  {
   "cell_type": "code",
   "execution_count": null,
   "metadata": {},
   "outputs": [],
   "source": []
  }
 ],
 "metadata": {
  "kernelspec": {
   "display_name": "Python 3",
   "language": "python",
   "name": "python3"
  },
  "language_info": {
   "codemirror_mode": {
    "name": "ipython",
    "version": 3
   },
   "file_extension": ".py",
   "mimetype": "text/x-python",
   "name": "python",
   "nbconvert_exporter": "python",
   "pygments_lexer": "ipython3",
   "version": "3.6.9"
  }
 },
 "nbformat": 4,
 "nbformat_minor": 2
}
